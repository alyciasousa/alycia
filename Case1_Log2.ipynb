{
  "nbformat": 4,
  "nbformat_minor": 0,
  "metadata": {
    "colab": {
      "provenance": [],
      "authorship_tag": "ABX9TyM7Jrs4zyz6RrNDtkZNShwQ",
      "include_colab_link": true
    },
    "kernelspec": {
      "name": "python3",
      "display_name": "Python 3"
    },
    "language_info": {
      "name": "python"
    }
  },
  "cells": [
    {
      "cell_type": "markdown",
      "metadata": {
        "id": "view-in-github",
        "colab_type": "text"
      },
      "source": [
        "<a href=\"https://colab.research.google.com/github/alyciasousa/alycia/blob/main/Case1_Log2.ipynb\" target=\"_parent\"><img src=\"https://colab.research.google.com/assets/colab-badge.svg\" alt=\"Open In Colab\"/></a>"
      ]
    },
    {
      "cell_type": "code",
      "source": [
        "import numpy as np\n",
        "import pandas as pd\n",
        "from itertools import permutations\n",
        "\n",
        "# Importa a matriz de distâncias que subimos em um CSV no GitHub\n",
        "url = 'https://github.com/alyciasousa/alycia/raw/main/distancias_log2.csv'\n",
        "distance_matrix = pd.read_csv(url,sep = ';', header = None)\n",
        "\n",
        "# Definimos os locais de cada rota pelo ID (começando e terminando no ponto 0)\n",
        "  # exemplo da rota 2 - obs: rodamos o código para as 13 rotas, sempre alterando esse parâmetro de locais fixos\n",
        "locais_fixos = [0, 36, 21, 63, 29,0]\n",
        "\n",
        "# Função para calcular a distância total da rota\n",
        "def calcular_distancia_total(rota, dist_matrix):\n",
        "    distancia_total = 0\n",
        "    for i in range(len(rota) - 1):\n",
        "        de = rota[i]\n",
        "        para = rota[i + 1]\n",
        "        distancia_total += dist_matrix[de][para]\n",
        "    return distancia_total\n",
        "\n",
        "# Encontramos todas as combinações possíveis entre os locais da rota\n",
        "permutacoes_locais_fixos = list(permutations(locais_fixos[1:-1]))\n",
        "\n",
        "melhor_rota = None\n",
        "melhor_distancia = float('inf')\n",
        "\n",
        "# Testamos todas as combinações e definimos a melhor rota com base na menor distância percorrida\n",
        "for permutacao in permutacoes_locais_fixos:\n",
        "    rota_atual = [locais_fixos[0]] + list(permutacao) + [locais_fixos[-1]]\n",
        "    distancia_atual = calcular_distancia_total(rota_atual, distance_matrix)\n",
        "    if distancia_atual < melhor_distancia:\n",
        "        melhor_distancia = distancia_atual\n",
        "        melhor_rota = rota_atual\n",
        "\n",
        "print(\"Melhor rota:\", melhor_rota)\n",
        "print(\"Distância total percorrida:\", melhor_distancia)"
      ],
      "metadata": {
        "colab": {
          "base_uri": "https://localhost:8080/"
        },
        "id": "-09D-r5O6TJG",
        "outputId": "bd88e22d-bd3d-4805-bc07-9cbc7d618a9c"
      },
      "execution_count": 48,
      "outputs": [
        {
          "output_type": "stream",
          "name": "stdout",
          "text": [
            "Melhor rota: [0, 29, 63, 36, 21, 0]\n",
            "Distância total percorrida: 58852\n"
          ]
        }
      ]
    }
  ]
}